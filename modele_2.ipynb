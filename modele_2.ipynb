{
 "cells": [
  {
   "cell_type": "code",
   "execution_count": 1,
   "id": "11d157cf-9dd9-4796-b354-536f9c96aea5",
   "metadata": {},
   "outputs": [],
   "source": [
    "import pandas as pd\n",
    "import matplotlib.pyplot as plt\n",
    "import seaborn as sns\n",
    "from sklearn.preprocessing import LabelEncoder\n",
    "from sklearn.model_selection import train_test_split, RandomizedSearchCV\n",
    "from sklearn.ensemble import RandomForestRegressor\n",
    "from sklearn.metrics import mean_absolute_error, mean_squared_error\n",
    "import numpy as np\n",
    "import joblib\n",
    "\n",
    "# Charger les données depuis le fichier Excel\n",
    "data = pd.read_excel('new.xlsx')"
   ]
  },
  {
   "cell_type": "code",
   "execution_count": 2,
   "id": "c26e8932-c60a-4d03-b93c-06c69dcd1482",
   "metadata": {},
   "outputs": [
    {
     "data": {
      "text/html": [
       "<div>\n",
       "<style scoped>\n",
       "    .dataframe tbody tr th:only-of-type {\n",
       "        vertical-align: middle;\n",
       "    }\n",
       "\n",
       "    .dataframe tbody tr th {\n",
       "        vertical-align: top;\n",
       "    }\n",
       "\n",
       "    .dataframe thead th {\n",
       "        text-align: right;\n",
       "    }\n",
       "</style>\n",
       "<table border=\"1\" class=\"dataframe\">\n",
       "  <thead>\n",
       "    <tr style=\"text-align: right;\">\n",
       "      <th></th>\n",
       "      <th>product_link</th>\n",
       "      <th>product_name</th>\n",
       "      <th>brand_name</th>\n",
       "      <th>product_price</th>\n",
       "      <th>rating</th>\n",
       "    </tr>\n",
       "  </thead>\n",
       "  <tbody>\n",
       "    <tr>\n",
       "      <th>0</th>\n",
       "      <td>https://ma.oriflame.com/products/product?code=...</td>\n",
       "      <td>Bouclier ultra léger protecteur contre UV et s...</td>\n",
       "      <td>NOVAGE+</td>\n",
       "      <td>349.00</td>\n",
       "      <td>0/5 ★</td>\n",
       "    </tr>\n",
       "    <tr>\n",
       "      <th>1</th>\n",
       "      <td>https://ma.oriflame.com/products/product?code=...</td>\n",
       "      <td>Brume Multi Usages Micro Essence Proceuticals ...</td>\n",
       "      <td>NOVAGE+</td>\n",
       "      <td>229.00</td>\n",
       "      <td>0/5 ★</td>\n",
       "    </tr>\n",
       "    <tr>\n",
       "      <th>2</th>\n",
       "      <td>https://ma.oriflame.com/products/product?code=...</td>\n",
       "      <td>Écran Sun Zone IP 50 Élevé - Protection UV Spé...</td>\n",
       "      <td>SUN ZONE</td>\n",
       "      <td>211.22</td>\n",
       "      <td>0/5 ★</td>\n",
       "    </tr>\n",
       "    <tr>\n",
       "      <th>3</th>\n",
       "      <td>https://ma.oriflame.com/products/product?code=...</td>\n",
       "      <td>Baume Multi Usage Tender Care à l'Extrait de F...</td>\n",
       "      <td>TENDER CARE</td>\n",
       "      <td>211.22</td>\n",
       "      <td>4.7/5 ★</td>\n",
       "    </tr>\n",
       "    <tr>\n",
       "      <th>4</th>\n",
       "      <td>https://ma.oriflame.com/products/product?code=...</td>\n",
       "      <td>Sérum à l'huile sèche Waunt Plump Me</td>\n",
       "      <td>WAUNT</td>\n",
       "      <td>399.00</td>\n",
       "      <td>4.6/5 ★</td>\n",
       "    </tr>\n",
       "  </tbody>\n",
       "</table>\n",
       "</div>"
      ],
      "text/plain": [
       "                                        product_link  \\\n",
       "0  https://ma.oriflame.com/products/product?code=...   \n",
       "1  https://ma.oriflame.com/products/product?code=...   \n",
       "2  https://ma.oriflame.com/products/product?code=...   \n",
       "3  https://ma.oriflame.com/products/product?code=...   \n",
       "4  https://ma.oriflame.com/products/product?code=...   \n",
       "\n",
       "                                        product_name   brand_name  \\\n",
       "0  Bouclier ultra léger protecteur contre UV et s...      NOVAGE+   \n",
       "1  Brume Multi Usages Micro Essence Proceuticals ...      NOVAGE+   \n",
       "2  Écran Sun Zone IP 50 Élevé - Protection UV Spé...     SUN ZONE   \n",
       "3  Baume Multi Usage Tender Care à l'Extrait de F...  TENDER CARE   \n",
       "4               Sérum à l'huile sèche Waunt Plump Me        WAUNT   \n",
       "\n",
       "   product_price   rating  \n",
       "0         349.00    0/5 ★  \n",
       "1         229.00    0/5 ★  \n",
       "2         211.22    0/5 ★  \n",
       "3         211.22  4.7/5 ★  \n",
       "4         399.00  4.6/5 ★  "
      ]
     },
     "execution_count": 2,
     "metadata": {},
     "output_type": "execute_result"
    }
   ],
   "source": [
    "data.head()"
   ]
  },
  {
   "cell_type": "code",
   "execution_count": null,
   "id": "37bff111-038c-46d6-a88b-63ecd2d3b9ff",
   "metadata": {},
   "outputs": [],
   "source": [
    "# Encoder la variable catégorielle 'brand_name' avec LabelEncoder\n",
    "label_encoder = LabelEncoder()\n",
    "data['brand_name_encoded'] = label_encoder.fit_transform(data['brand_name'])"
   ]
  },
  {
   "cell_type": "code",
   "execution_count": 7,
   "id": "84240b9d-fc22-49d3-9075-b767922ba58a",
   "metadata": {},
   "outputs": [
    {
     "ename": "KeyError",
     "evalue": "'brand_name_encoded'",
     "output_type": "error",
     "traceback": [
      "\u001b[0;31m---------------------------------------------------------------------------\u001b[0m",
      "\u001b[0;31mKeyError\u001b[0m                                  Traceback (most recent call last)",
      "File \u001b[0;32m/Applications/Anaconda/anaconda3/lib/python3.11/site-packages/pandas/core/indexes/base.py:3791\u001b[0m, in \u001b[0;36mIndex.get_loc\u001b[0;34m(self, key)\u001b[0m\n\u001b[1;32m   3790\u001b[0m \u001b[38;5;28;01mtry\u001b[39;00m:\n\u001b[0;32m-> 3791\u001b[0m     \u001b[38;5;28;01mreturn\u001b[39;00m \u001b[38;5;28mself\u001b[39m\u001b[38;5;241m.\u001b[39m_engine\u001b[38;5;241m.\u001b[39mget_loc(casted_key)\n\u001b[1;32m   3792\u001b[0m \u001b[38;5;28;01mexcept\u001b[39;00m \u001b[38;5;167;01mKeyError\u001b[39;00m \u001b[38;5;28;01mas\u001b[39;00m err:\n",
      "File \u001b[0;32mindex.pyx:152\u001b[0m, in \u001b[0;36mpandas._libs.index.IndexEngine.get_loc\u001b[0;34m()\u001b[0m\n",
      "File \u001b[0;32mindex.pyx:181\u001b[0m, in \u001b[0;36mpandas._libs.index.IndexEngine.get_loc\u001b[0;34m()\u001b[0m\n",
      "File \u001b[0;32mpandas/_libs/hashtable_class_helper.pxi:7080\u001b[0m, in \u001b[0;36mpandas._libs.hashtable.PyObjectHashTable.get_item\u001b[0;34m()\u001b[0m\n",
      "File \u001b[0;32mpandas/_libs/hashtable_class_helper.pxi:7088\u001b[0m, in \u001b[0;36mpandas._libs.hashtable.PyObjectHashTable.get_item\u001b[0;34m()\u001b[0m\n",
      "\u001b[0;31mKeyError\u001b[0m: 'brand_name_encoded'",
      "\nThe above exception was the direct cause of the following exception:\n",
      "\u001b[0;31mKeyError\u001b[0m                                  Traceback (most recent call last)",
      "Cell \u001b[0;32mIn[7], line 1\u001b[0m\n\u001b[0;32m----> 1\u001b[0m data[\u001b[38;5;124m'\u001b[39m\u001b[38;5;124mbrand_name_encoded\u001b[39m\u001b[38;5;124m'\u001b[39m]\u001b[38;5;241m.\u001b[39mhead()\n",
      "File \u001b[0;32m/Applications/Anaconda/anaconda3/lib/python3.11/site-packages/pandas/core/frame.py:3893\u001b[0m, in \u001b[0;36mDataFrame.__getitem__\u001b[0;34m(self, key)\u001b[0m\n\u001b[1;32m   3891\u001b[0m \u001b[38;5;28;01mif\u001b[39;00m \u001b[38;5;28mself\u001b[39m\u001b[38;5;241m.\u001b[39mcolumns\u001b[38;5;241m.\u001b[39mnlevels \u001b[38;5;241m>\u001b[39m \u001b[38;5;241m1\u001b[39m:\n\u001b[1;32m   3892\u001b[0m     \u001b[38;5;28;01mreturn\u001b[39;00m \u001b[38;5;28mself\u001b[39m\u001b[38;5;241m.\u001b[39m_getitem_multilevel(key)\n\u001b[0;32m-> 3893\u001b[0m indexer \u001b[38;5;241m=\u001b[39m \u001b[38;5;28mself\u001b[39m\u001b[38;5;241m.\u001b[39mcolumns\u001b[38;5;241m.\u001b[39mget_loc(key)\n\u001b[1;32m   3894\u001b[0m \u001b[38;5;28;01mif\u001b[39;00m is_integer(indexer):\n\u001b[1;32m   3895\u001b[0m     indexer \u001b[38;5;241m=\u001b[39m [indexer]\n",
      "File \u001b[0;32m/Applications/Anaconda/anaconda3/lib/python3.11/site-packages/pandas/core/indexes/base.py:3798\u001b[0m, in \u001b[0;36mIndex.get_loc\u001b[0;34m(self, key)\u001b[0m\n\u001b[1;32m   3793\u001b[0m     \u001b[38;5;28;01mif\u001b[39;00m \u001b[38;5;28misinstance\u001b[39m(casted_key, \u001b[38;5;28mslice\u001b[39m) \u001b[38;5;129;01mor\u001b[39;00m (\n\u001b[1;32m   3794\u001b[0m         \u001b[38;5;28misinstance\u001b[39m(casted_key, abc\u001b[38;5;241m.\u001b[39mIterable)\n\u001b[1;32m   3795\u001b[0m         \u001b[38;5;129;01mand\u001b[39;00m \u001b[38;5;28many\u001b[39m(\u001b[38;5;28misinstance\u001b[39m(x, \u001b[38;5;28mslice\u001b[39m) \u001b[38;5;28;01mfor\u001b[39;00m x \u001b[38;5;129;01min\u001b[39;00m casted_key)\n\u001b[1;32m   3796\u001b[0m     ):\n\u001b[1;32m   3797\u001b[0m         \u001b[38;5;28;01mraise\u001b[39;00m InvalidIndexError(key)\n\u001b[0;32m-> 3798\u001b[0m     \u001b[38;5;28;01mraise\u001b[39;00m \u001b[38;5;167;01mKeyError\u001b[39;00m(key) \u001b[38;5;28;01mfrom\u001b[39;00m \u001b[38;5;21;01merr\u001b[39;00m\n\u001b[1;32m   3799\u001b[0m \u001b[38;5;28;01mexcept\u001b[39;00m \u001b[38;5;167;01mTypeError\u001b[39;00m:\n\u001b[1;32m   3800\u001b[0m     \u001b[38;5;66;03m# If we have a listlike key, _check_indexing_error will raise\u001b[39;00m\n\u001b[1;32m   3801\u001b[0m     \u001b[38;5;66;03m#  InvalidIndexError. Otherwise we fall through and re-raise\u001b[39;00m\n\u001b[1;32m   3802\u001b[0m     \u001b[38;5;66;03m#  the TypeError.\u001b[39;00m\n\u001b[1;32m   3803\u001b[0m     \u001b[38;5;28mself\u001b[39m\u001b[38;5;241m.\u001b[39m_check_indexing_error(key)\n",
      "\u001b[0;31mKeyError\u001b[0m: 'brand_name_encoded'"
     ]
    }
   ],
   "source": [
    "data['brand_name_encoded'].head()"
   ]
  },
  {
   "cell_type": "code",
   "execution_count": null,
   "id": "a165b90f-f0f2-4085-a3ce-693da40c1ae1",
   "metadata": {},
   "outputs": [],
   "source": []
  },
  {
   "cell_type": "code",
   "execution_count": null,
   "id": "daf52a03-a561-4843-b6f7-92b8cb5c6cf8",
   "metadata": {},
   "outputs": [],
   "source": []
  },
  {
   "cell_type": "code",
   "execution_count": null,
   "id": "fb2a3b48-992b-418c-bfcf-7b1734f29c0f",
   "metadata": {},
   "outputs": [],
   "source": []
  },
  {
   "cell_type": "code",
   "execution_count": null,
   "id": "27e925d8-4df8-4a23-83fb-4f3b032fd964",
   "metadata": {},
   "outputs": [],
   "source": []
  },
  {
   "cell_type": "code",
   "execution_count": 21,
   "id": "d007356d-d7ef-4964-8d39-f57cad6bfef4",
   "metadata": {},
   "outputs": [
    {
     "name": "stdout",
     "output_type": "stream",
     "text": [
      "Fitting 3 folds for each of 100 candidates, totalling 300 fits\n",
      "Best parameters found: {'n_estimators': 500, 'min_samples_split': 10, 'min_samples_leaf': 1, 'max_features': 'sqrt', 'max_depth': 10}\n",
      "Optimized MAE: 1.1756531957488594\n",
      "Optimized RMSE: 1.5541705430297506\n"
     ]
    },
    {
     "data": {
      "text/plain": [
       "['label_encoder_2.pkl']"
      ]
     },
     "execution_count": 21,
     "metadata": {},
     "output_type": "execute_result"
    }
   ],
   "source": [
    "import pandas as pd\n",
    "import matplotlib.pyplot as plt\n",
    "import seaborn as sns\n",
    "from sklearn.preprocessing import LabelEncoder\n",
    "from sklearn.model_selection import train_test_split, RandomizedSearchCV\n",
    "from sklearn.ensemble import RandomForestRegressor\n",
    "from sklearn.metrics import mean_absolute_error, mean_squared_error\n",
    "import numpy as np\n",
    "import joblib\n",
    "\n",
    "# Charger les données depuis le fichier Excel\n",
    "data = pd.read_excel('new.xlsx')\n",
    "\n",
    "# Convertir le rating en numérique (supposons que c'est au format '4/5*')\n",
    "data['rating'] = data['rating'].str.extract(r'(\\d+)').astype(float)\n",
    "data['rating'] = data['rating'].fillna(0)  # Remplacer les valeurs manquantes par 0\n",
    "\n",
    "# Encoder la variable catégorielle 'brand_name' avec LabelEncoder\n",
    "label_encoder = LabelEncoder()\n",
    "data['brand_name_encoded'] = label_encoder.fit_transform(data['brand_name'])\n",
    "\n",
    "# Sélectionner uniquement les colonnes 'product_price' et 'brand_name_encoded' pour l'entraînement du modèle\n",
    "x = data[['product_price', 'brand_name_encoded']]\n",
    "y = data['rating']\n",
    "\n",
    "# Sauvegarder les noms des caractéristiques\n",
    "feature_names = x.columns.tolist()\n",
    "joblib.dump(feature_names, 'feature_names_2.pkl')\n",
    "\n",
    "# Diviser les données en ensembles d'entraînement et de test\n",
    "x_train, x_test, y_train, y_test = train_test_split(x, y, test_size=0.2, random_state=42)\n",
    "\n",
    "# Définir les hyperparamètres à rechercher\n",
    "param_distributions = {\n",
    "    'n_estimators': [100, 200, 300, 400, 500],\n",
    "    'max_features': ['sqrt', 'log2'],\n",
    "    'max_depth': [None, 10, 20, 30, 40, 50],\n",
    "    'min_samples_split': [2, 5, 10],\n",
    "    'min_samples_leaf': [1, 2, 4]\n",
    "}\n",
    "\n",
    "# Initialiser le modèle\n",
    "rf = RandomForestRegressor(random_state=42)\n",
    "\n",
    "# Initialiser RandomizedSearchCV\n",
    "random_search = RandomizedSearchCV(estimator=rf, param_distributions=param_distributions,\n",
    "                                   n_iter=100, cv=3, verbose=2, random_state=42, n_jobs=-1, error_score='raise')\n",
    "\n",
    "# Entraîner le modèle\n",
    "random_search.fit(x_train, y_train)\n",
    "\n",
    "# Meilleurs paramètres\n",
    "print(f'Best parameters found: {random_search.best_params_}')\n",
    "\n",
    "# Utiliser le meilleur modèle trouvé\n",
    "best_model = random_search.best_estimator_\n",
    "\n",
    "# Prédictions\n",
    "y_pred_best = best_model.predict(x_test)\n",
    "\n",
    "# Évaluation du modèle\n",
    "mae_best = mean_absolute_error(y_test, y_pred_best)\n",
    "rmse_best = np.sqrt(mean_squared_error(y_test, y_pred_best))\n",
    "print(f'Optimized MAE: {mae_best}')\n",
    "print(f'Optimized RMSE: {rmse_best}')\n",
    "\n",
    "# Sauvegarder le modèle\n",
    "joblib.dump(best_model, 'best_model_2.pkl')\n",
    "\n",
    "# Sauvegarder l'encodeur\n",
    "joblib.dump(label_encoder, 'label_encoder_2.pkl')"
   ]
  },
  {
   "cell_type": "code",
   "execution_count": 18,
   "id": "23d16ea0-dc0d-468b-a90c-981dc3b896eb",
   "metadata": {},
   "outputs": [
    {
     "data": {
      "text/plain": [
       "array([0.        , 3.84943998, 3.25937964, 3.59761548, 1.64718786,\n",
       "       1.11678719, 3.89998597, 2.25121633, 1.8082714 , 1.54289724,\n",
       "       2.5007659 , 2.55754717, 3.31337581, 3.87618594, 0.        ,\n",
       "       3.53344453, 3.87618594, 1.54289724, 3.89998597, 3.81202496,\n",
       "       3.25937964, 3.87618594, 1.05770824, 3.25937964, 1.26037649,\n",
       "       0.35512731, 1.54326474, 3.32499438, 2.5007659 , 3.03372727,\n",
       "       3.74050689, 0.        , 3.76040412, 3.05506738, 3.89998597,\n",
       "       3.29758586, 3.14210693, 0.82819311, 3.35445853, 2.92334991,\n",
       "       0.        , 3.81202496, 2.8273361 , 2.25121633, 2.79181604,\n",
       "       3.89998597, 3.0492439 , 2.5584226 , 3.44398908, 3.25937964,\n",
       "       2.31049138, 3.89998597, 3.39407395, 2.08809695, 2.57411496,\n",
       "       3.30854083, 3.67774188, 1.77584409, 3.09228855, 2.79665129,\n",
       "       3.05498518, 2.23915898, 3.25937964, 2.2196965 , 2.25034334,\n",
       "       3.55383297, 3.27765004, 3.87618594, 3.88561618, 3.1857749 ,\n",
       "       1.34201568, 3.89998597, 3.1774912 , 2.74253022, 2.91159551,\n",
       "       3.39407395, 1.77581246, 1.05067715, 3.68416482, 2.93553977,\n",
       "       3.68416482, 3.18959453, 3.53344453, 1.54326474, 2.64171211,\n",
       "       3.06626331, 3.66456433, 2.48776822, 0.        , 3.44805882,\n",
       "       3.54928825, 0.7531635 , 0.67441921, 3.57345166, 3.44805882,\n",
       "       1.34201568, 2.54439636, 3.51404664, 3.87618594, 0.        ,\n",
       "       0.82819311, 2.181521  , 3.31337581, 1.34201568, 3.89998597,\n",
       "       0.35512731, 1.98505977, 0.65012553, 0.73101405, 3.11598744,\n",
       "       3.82595872, 1.44804759, 2.78033103, 3.88561618, 3.93991066,\n",
       "       3.12156316, 3.48678066, 3.10923152, 3.00602581, 1.80735734,\n",
       "       3.12771604, 2.89509375, 3.76040412, 3.14423343, 2.48776822,\n",
       "       0.93962909, 3.45660425, 3.89998597, 1.05067715, 1.34201568,\n",
       "       1.77584409, 0.        ])"
      ]
     },
     "execution_count": 18,
     "metadata": {},
     "output_type": "execute_result"
    }
   ],
   "source": [
    "y_pred_best"
   ]
  },
  {
   "cell_type": "code",
   "execution_count": null,
   "id": "eb0896de-4036-4f53-8342-ec3cc8e69da7",
   "metadata": {},
   "outputs": [],
   "source": []
  }
 ],
 "metadata": {
  "kernelspec": {
   "display_name": "Python 3 (ipykernel)",
   "language": "python",
   "name": "python3"
  },
  "language_info": {
   "codemirror_mode": {
    "name": "ipython",
    "version": 3
   },
   "file_extension": ".py",
   "mimetype": "text/x-python",
   "name": "python",
   "nbconvert_exporter": "python",
   "pygments_lexer": "ipython3",
   "version": "3.11.7"
  }
 },
 "nbformat": 4,
 "nbformat_minor": 5
}
